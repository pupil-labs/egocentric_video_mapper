{
 "cells": [
  {
   "cell_type": "markdown",
   "metadata": {},
   "source": [
    "# Alternative Egocentric View"
   ]
  },
  {
   "cell_type": "markdown",
   "metadata": {},
   "source": [
    "Before starting make sure you have an available GPU. If you are unsure about whether you have an available GPU or if you want to check which GPU you will be working with run the next executble cell."
   ]
  },
  {
   "cell_type": "code",
   "execution_count": 2,
   "metadata": {},
   "outputs": [
    {
     "name": "stdout",
     "output_type": "stream",
     "text": [
      "GPU 0: NVIDIA GeForce GTX 1080 Ti (UUID: GPU-72b7ddec-7074-1583-0076-9281c065ae9d)\n"
     ]
    }
   ],
   "source": [
    "!nvidia-smi -L"
   ]
  },
  {
   "cell_type": "markdown",
   "metadata": {},
   "source": [
    "Now run the next cell to import the modules and functions that will be used for this AlphaLab"
   ]
  },
  {
   "cell_type": "code",
   "execution_count": 1,
   "metadata": {},
   "outputs": [],
   "source": [
    "from pathlib import Path\n",
    "import numpy as np\n",
    "import matplotlib.pyplot as plt \n",
    "from utils import VideoHandler, write_action_timestamp_csv\n",
    "from optic_flow import OpticFlowCalculatorLK\n",
    "from sync_videos import OffsetCalculator\n",
    "from gaze_mapper import RulesBasedGazeMapper\n",
    "from video_renderer import save_comparison_video, save_gaze_video"
   ]
  },
  {
   "cell_type": "markdown",
   "metadata": {},
   "source": [
    "Fill out the path to the directory of the uncompressed Scene Video + Timeseries download from Cloud."
   ]
  },
  {
   "cell_type": "code",
   "execution_count": 2,
   "metadata": {},
   "outputs": [],
   "source": [
    "neon_timeseries_path='/users/sof/video_examples/second_video/2024-05-23_16-47-35-a666ea62'\n",
    "neon_vid_path= Path(neon_timeseries_path).rglob('*.mp4').__next__()"
   ]
  },
  {
   "cell_type": "markdown",
   "metadata": {},
   "source": [
    "Fill out the path of the corresponding alternative egocentric view recording (please make sure that both videos have the same orientation)."
   ]
  },
  {
   "cell_type": "code",
   "execution_count": 3,
   "metadata": {},
   "outputs": [],
   "source": [
    "action_vid_path='/users/sof/video_examples/second_video/20240523_171941_000.mp4'"
   ]
  },
  {
   "cell_type": "markdown",
   "metadata": {},
   "source": [
    "Define an output directory where the different output files will be saved."
   ]
  },
  {
   "cell_type": "code",
   "execution_count": 4,
   "metadata": {},
   "outputs": [],
   "source": [
    "output_dir='/users/sof/action_map_experiments/notebook/second_video'"
   ]
  },
  {
   "cell_type": "markdown",
   "metadata": {},
   "source": [
    "## Step 1: Video Synchronization\n",
    "\n",
    "In this first step, optic flow in both videos will be calculated. Each optic flow result is saved to a csv file in an automatically created optic_flow subdirectory in the output directory. The csv file will contain the following columns:\n",
    "- start: the start frame timestamp of the optic flow calculation\n",
    "- end: the end frame timestamp of the optic flow calculation\n",
    "- dx: Average horizontal displacement  \n",
    "- dy: Average vertical displacement \n",
    "- angle: Average angular change in degrees\n",
    "\n",
    "Optic flow is then used to obtain the time offset of the Action video with respect to the Neon Scene video. \n",
    "\n"
   ]
  },
  {
   "cell_type": "code",
   "execution_count": 12,
   "metadata": {},
   "outputs": [
    {
     "name": "stderr",
     "output_type": "stream",
     "text": [
      "File already exists, appending to it\n",
      "File already exists, appending to it\n"
     ]
    },
    {
     "name": "stdout",
     "output_type": "stream",
     "text": [
      "Estimated offset: 2.016 seconds (Pearson correlation: 0.9192123717590794)\n"
     ]
    }
   ],
   "source": [
    "action_of = OpticFlowCalculatorLK(video_dir=action_vid_path)\n",
    "neon_of = OpticFlowCalculatorLK(video_dir=neon_vid_path)\n",
    "\n",
    "neon_result = neon_of.process_video()\n",
    "action_result = action_of.process_video()\n",
    "\n",
    "optic_flow_output_dir = Path(output_dir, 'optic_flow')\n",
    "optic_flow_output_dir.mkdir(parents=True, exist_ok=True)\n",
    "\n",
    "action_of_csv=Path(optic_flow_output_dir, 'action_lk_of.csv')\n",
    "neon_of_csv=Path(optic_flow_output_dir, 'neon_lk_of.csv')\n",
    "action_of.write_to_csv(action_of_csv)\n",
    "neon_of.write_to_csv(neon_of_csv)\n",
    "\n",
    "offset_calc=OffsetCalculator(src=action_result['dy'].values,src_timestamps=action_result['start'].values, dst=neon_result['dy'].values, dst_timestamps=neon_result['start'].values,resampling_frequency=500)\n",
    "t_offset, pearson_corr = offset_calc.estimate_time_offset()\n",
    "print(f'Estimated offset: {t_offset} seconds (Pearson correlation: {pearson_corr})')\n"
   ]
  },
  {
   "cell_type": "markdown",
   "metadata": {},
   "source": [
    "Once the time offset is calculated, the action_worldtimestamps.csv can be generated with a similar format as the Neon world_timestamps.csv."
   ]
  },
  {
   "cell_type": "code",
   "execution_count": 16,
   "metadata": {},
   "outputs": [
    {
     "name": "stderr",
     "output_type": "stream",
     "text": [
      "Last timestamp of Action camera recording (2024-05-23 14:48:20.850369536) is after the last timestamp of Neon Scene recording (2024-05-23 14:48:18.721666666)\n"
     ]
    }
   ],
   "source": [
    "actionVid=VideoHandler(action_vid_path)\n",
    "neon_timestamps= Path(neon_timeseries_path, 'world_timestamps.csv')\n",
    "action_relative_ts= actionVid.timestamps\n",
    "write_action_timestamp_csv(neon_timestamps, action_relative_ts+t_offset, saving_path=output_dir)"
   ]
  },
  {
   "cell_type": "markdown",
   "metadata": {},
   "source": [
    "## Step 2: Map gaze data to the action video\n",
    "\n",
    "After synchronizing both videos, it is time to obtain Neon gaze signal in the coordinate system of the other video. Here we make use of deep learning methods to guide the gaze transformation, for this notebook we will be using an implementation of Efficient LOFTR, if you are interested in using other algorithms we have implemented or in implementing one yourself check feature_matcher.py."
   ]
  },
  {
   "cell_type": "code",
   "execution_count": 5,
   "metadata": {},
   "outputs": [],
   "source": [
    "action_timestamps= Path(output_dir, 'action_camera_timestamps.csv')\n",
    "neon_timestamps= Path(neon_timeseries_path, 'world_timestamps.csv')\n",
    "\n",
    "neon_gaze_csv=Path(neon_timeseries_path, 'gaze.csv')\n",
    "\n",
    "optic_flow_output_dir = Path(output_dir, 'optic_flow')\n",
    "action_of_csv=Path(optic_flow_output_dir, 'action_lk_of.csv')\n",
    "neon_of_csv=Path(optic_flow_output_dir, 'neon_lk_of.csv')\n",
    "\n",
    "param_eloftr = {\"model_type\": \"opt\", \"gpu_num\": 0}\n",
    "image_matcher_eloftr = {\"choice\": \"efficient_loftr\", \"parameters\": param_eloftr}\n",
    "image_matcher=image_matcher_eloftr\n",
    "\n",
    "mapper = RulesBasedGazeMapper(neon_gaze_csv=neon_gaze_csv,\n",
    "        neon_video_dir=neon_vid_path,\n",
    "        action_video_dir=action_vid_path,\n",
    "        neon_timestamps=neon_timestamps,\n",
    "        action_timestamps=action_timestamps,\n",
    "        image_matcher=image_matcher['choice'],\n",
    "        image_matcher_parameters=image_matcher['parameters'],\n",
    "        neon_opticflow_csv=neon_of_csv,\n",
    "        action_opticflow_csv=action_of_csv,\n",
    "        patch_size=1000)"
   ]
  },
  {
   "cell_type": "markdown",
   "metadata": {},
   "source": [
    "Before running the mapping pipeline you can adjust how often you want the image correspondances refreshed. The higher you set the time threshold the less time the mapping will take however it won't be as accurate as it could be. The lower the time threshold the more time the mapping will take. If you leave the value at 'None' then for every gaze new imge correspondences will be obtained. "
   ]
  },
  {
   "cell_type": "code",
   "execution_count": 6,
   "metadata": {},
   "outputs": [],
   "source": [
    "time_threshold = None"
   ]
  },
  {
   "cell_type": "code",
   "execution_count": null,
   "metadata": {},
   "outputs": [],
   "source": [
    "action_gaze_output_dir = Path(output_dir, f'mapped_gaze/{image_matcher[\"choice\"].lower()}')\n",
    "action_gaze_output_dir.mkdir(parents=True, exist_ok=True)\n",
    "gaze_csv_path = Path(action_gaze_output_dir,f\"action_gaze_lk.csv\")\n",
    "mapper.map_gaze(saving_path=gaze_csv_path,refresh_time_thrshld=time_threshold)"
   ]
  },
  {
   "cell_type": "markdown",
   "metadata": {},
   "source": [
    "## Step 3 (OPTIONAL): Create visualization videos\n",
    "\n",
    "For visualization purposes you can get a side-to-side rendering with gaze of the Neon Scene video and the alternative egocentric video. \n"
   ]
  },
  {
   "cell_type": "code",
   "execution_count": null,
   "metadata": {},
   "outputs": [],
   "source": [
    "action_gaze_dict = {image_matcher['choice'].upper(): gaze_csv_path}\n",
    "rendered_video_path = Path(output_dir, f\"rendered_videos/neon_comparison_{image_matcher['choice']}_lk.avi\")\n",
    "Path(rendered_video_path).parent.mkdir(parents=True, exist_ok=True)\n",
    "\n",
    "save_comparison_video(action_video_path=action_vid_path,\n",
    "        action_worldtimestamps_path=action_timestamps,\n",
    "        action_gaze_paths_dict=action_gaze_dict,\n",
    "        neon_video_path=neon_vid_path,\n",
    "        neon_worldtimestamps_path=neon_timestamps,\n",
    "        neon_gaze_path=neon_gaze_csv,\n",
    "        save_video_path=rendered_video_path)  "
   ]
  },
  {
   "cell_type": "markdown",
   "metadata": {},
   "source": [
    "You also can get only the alternative egocentric video  (at its original frame rate) with the overlaid gaze circle."
   ]
  },
  {
   "cell_type": "code",
   "execution_count": 8,
   "metadata": {},
   "outputs": [
    {
     "name": "stdout",
     "output_type": "stream",
     "text": [
      "Saving video at /users/sof/action_map_experiments/notebook/second_video/neon_gaze.avi\n"
     ]
    }
   ],
   "source": [
    "save_gaze_video(video_path=action_vid_path,\n",
    "                timestamps_path = action_timestamps,\n",
    "                gaze_path=gaze_csv_path,\n",
    "                save_video_path=Path(output_dir, f\"rendered_videos/{image_matcher['choice']}_lk.avi\"))"
   ]
  }
 ],
 "metadata": {
  "kernelspec": {
   "display_name": "sof_gazemapping",
   "language": "python",
   "name": "python3"
  },
  "language_info": {
   "codemirror_mode": {
    "name": "ipython",
    "version": 3
   },
   "file_extension": ".py",
   "mimetype": "text/x-python",
   "name": "python",
   "nbconvert_exporter": "python",
   "pygments_lexer": "ipython3",
   "version": "3.11.0"
  }
 },
 "nbformat": 4,
 "nbformat_minor": 2
}
